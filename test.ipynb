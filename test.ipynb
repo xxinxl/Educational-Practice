{
 "cells": [
  {
   "cell_type": "code",
   "execution_count": null,
   "metadata": {},
   "outputs": [
    {
     "data": {
      "text/plain": [
       "[{'username': 'loricallahan',\n",
       "  'password': '*kzUNLY#1q',\n",
       "  'email': 'edwin29@example.net',\n",
       "  'profile': {'phone': '(350)618-1175', 'date_birthday': None},\n",
       "  'role': <RoleEnum.BASIC: 'Обычная подписка'>},\n",
       " {'username': 'elizabeth54',\n",
       "  'password': 'nP#6EuCeoF',\n",
       "  'email': 'andresjacobson@example.net',\n",
       "  'profile': {'phone': '5013892829',\n",
       "   'date_birthday': datetime.date(1944, 2, 21)},\n",
       "  'role': <RoleEnum.BASIC: 'Обычная подписка'>},\n",
       " {'username': 'jennifer73',\n",
       "  'password': '&0iSrI9b58',\n",
       "  'email': 'xlewis@example.com',\n",
       "  'profile': {'phone': None, 'date_birthday': None},\n",
       "  'role': <RoleEnum.DEMO: 'Демо-режим'>},\n",
       " {'username': 'andersongina',\n",
       "  'password': '2LUT0Zgk#0',\n",
       "  'email': 'lbarton@example.net',\n",
       "  'profile': {'phone': None, 'date_birthday': None},\n",
       "  'role': <RoleEnum.PRO: 'Расширенная подписка'>},\n",
       " {'username': 'bjones',\n",
       "  'password': '&@$H3ViV8g',\n",
       "  'email': 'albert54@example.com',\n",
       "  'profile': {'phone': '724-495-5415', 'date_birthday': None},\n",
       "  'role': <RoleEnum.PRO: 'Расширенная подписка'>}]"
      ]
     },
     "execution_count": 7,
     "metadata": {},
     "output_type": "execute_result"
    }
   ],
   "source": [
    "\n",
    "import random\n",
    "from faker import Faker\n",
    "from enums import RoleEnum\n",
    "from settings.config import settings\n",
    "\n",
    "faker = Faker()\n",
    "\n",
    "users_data = [{\n",
    "    'username': faker.user_name(),\n",
    "    'password': faker.password(),\n",
    "    'email': faker.email(),\n",
    "    \"profile\": {    \n",
    "        'phone': faker.basic_phone_number() if random.randint(0,1) == 1 else None ,\n",
    "        'date_birthday': faker.date_of_birth() if random.randint(0,1) == 1 else None ,\n",
    "    },\n",
    "    'role': random.choice(list(RoleEnum)),\n",
    "} for _ in range(5)]\n",
    "\n",
    "users_data"
   ]
  },
  {
   "cell_type": "code",
   "execution_count": null,
   "metadata": {},
   "outputs": [
    {
     "data": {
      "text/plain": [
       "[{'username': 'gfuentes',\n",
       "  'password': 'N%1ODe4r*U',\n",
       "  'email': 'flynncasey@example.com',\n",
       "  'phone': None,\n",
       "  'date_birthday': datetime.date(1991, 5, 3),\n",
       "  'role': <RoleEnum.PRO: 'Расширенная подписка'>},\n",
       " {'username': 'eric54',\n",
       "  'password': 'Ie@SN6^_%2',\n",
       "  'email': 'david85@example.net',\n",
       "  'phone': '4437615429',\n",
       "  'date_birthday': None,\n",
       "  'role': <RoleEnum.PRO: 'Расширенная подписка'>},\n",
       " {'username': 'jfrazier',\n",
       "  'password': 'k$4NevJdQC',\n",
       "  'email': 'robert86@example.com',\n",
       "  'phone': '7856638286',\n",
       "  'date_birthday': datetime.date(1933, 12, 11),\n",
       "  'role': <RoleEnum.DEMO: 'Демо-режим'>},\n",
       " {'username': 'vcaldwell',\n",
       "  'password': 'Y5qFe2+a_4',\n",
       "  'email': 'lynchcody@example.net',\n",
       "  'phone': None,\n",
       "  'date_birthday': None,\n",
       "  'role': <RoleEnum.BASIC: 'Обычная подписка'>},\n",
       " {'username': 'kenneth75',\n",
       "  'password': '!#4a!CqVn#',\n",
       "  'email': 'aflynn@example.org',\n",
       "  'phone': '8315717262',\n",
       "  'date_birthday': datetime.date(1939, 4, 3),\n",
       "  'role': <RoleEnum.PRO: 'Расширенная подписка'>}]"
      ]
     },
     "execution_count": 2,
     "metadata": {},
     "output_type": "execute_result"
    }
   ],
   "source": [
    "users_data"
   ]
  },
  {
   "cell_type": "code",
   "execution_count": 3,
   "metadata": {},
   "outputs": [
    {
     "data": {
      "text/plain": [
       "{'username': 'gfuentes',\n",
       " 'password': 'N%1ODe4r*U',\n",
       " 'email': 'flynncasey@example.com',\n",
       " 'phone': None,\n",
       " 'date_birthday': datetime.date(1991, 5, 3),\n",
       " 'role': <RoleEnum.PRO: 'Расширенная подписка'>}"
      ]
     },
     "execution_count": 3,
     "metadata": {},
     "output_type": "execute_result"
    }
   ],
   "source": [
    "users_data[0]"
   ]
  },
  {
   "cell_type": "code",
   "execution_count": null,
   "metadata": {},
   "outputs": [],
   "source": [
    "from models.user import User\n",
    "\n",
    "user = User.create(**users_data[0])"
   ]
  },
  {
   "cell_type": "code",
   "execution_count": 1,
   "metadata": {},
   "outputs": [],
   "source": [
    "from models.user import User\n",
    "\n",
    "user = User.get(id='e4c6ed4f-f61d-47dc-804f-3348fbfef102')"
   ]
  },
  {
   "cell_type": "code",
   "execution_count": 3,
   "metadata": {},
   "outputs": [
    {
     "data": {
      "text/plain": [
       "{'username': 'gfuentes',\n",
       " 'password': 'N%1ODe4r*U',\n",
       " 'email': 'flynncasey@example.com',\n",
       " 'role': <RoleEnum.PRO: 'Расширенная подписка'>,\n",
       " 'id': 'e4c6ed4f-f61d-47dc-804f-3348fbfef102',\n",
       " 'create_at': datetime.datetime(2025, 4, 25, 14, 0, 53, 748606),\n",
       " 'update_at': datetime.datetime(2025, 4, 25, 14, 0, 53, 748606)}"
      ]
     },
     "execution_count": 3,
     "metadata": {},
     "output_type": "execute_result"
    }
   ],
   "source": [
    "user.to_dict()"
   ]
  },
  {
   "cell_type": "code",
   "execution_count": 4,
   "metadata": {},
   "outputs": [
    {
     "data": {
      "text/plain": [
       "<models.profile.Profile at 0x23d65b7f230>"
      ]
     },
     "execution_count": 4,
     "metadata": {},
     "output_type": "execute_result"
    }
   ],
   "source": [
    "user.profile"
   ]
  },
  {
   "cell_type": "code",
   "execution_count": 2,
   "metadata": {},
   "outputs": [
    {
     "data": {
      "text/plain": [
       "{'username': 'gfuentes',\n",
       " 'password': 'N%1ODe4r*U',\n",
       " 'email': 'flynncasey@example.com',\n",
       " 'role': 'Расширенная подписка',\n",
       " 'profile': {'phone': None,\n",
       "  'name': None,\n",
       "  'suname': None,\n",
       "  'about': None,\n",
       "  'date_birthday': datetime.datetime(1991, 5, 3, 0, 0)}}"
      ]
     },
     "execution_count": 2,
     "metadata": {},
     "output_type": "execute_result"
    }
   ],
   "source": [
    "from schemas.user import UserPD\n",
    "\n",
    "\n",
    "user_pydantic = UserPD.model_validate(user)\n",
    "dict(user_pydantic)"
   ]
  },
  {
   "cell_type": "code",
   "execution_count": null,
   "metadata": {},
   "outputs": [
    {
     "ename": "ValidationError",
     "evalue": "1 validation error for UserPD\n  Input should be a valid dictionary or object to extract fields from [type=model_attributes_type, input_value=[{'username': 'lorrainera...я подписка'>}], input_type=list]\n    For further information visit https://errors.pydantic.dev/2.11/v/model_attributes_type",
     "output_type": "error",
     "traceback": [
      "\u001b[31m---------------------------------------------------------------------------\u001b[39m",
      "\u001b[31mValidationError\u001b[39m                           Traceback (most recent call last)",
      "\u001b[36mCell\u001b[39m\u001b[36m \u001b[39m\u001b[32mIn[6]\u001b[39m\u001b[32m, line 4\u001b[39m\n\u001b[32m      1\u001b[39m \u001b[38;5;28;01mfrom\u001b[39;00m\u001b[38;5;250m \u001b[39m\u001b[34;01mschemas\u001b[39;00m\u001b[34;01m.\u001b[39;00m\u001b[34;01muser\u001b[39;00m\u001b[38;5;250m \u001b[39m\u001b[38;5;28;01mimport\u001b[39;00m UserPD\n\u001b[32m----> \u001b[39m\u001b[32m4\u001b[39m \u001b[43mUserPD\u001b[49m\u001b[43m.\u001b[49m\u001b[43mmodel_validate\u001b[49m\u001b[43m(\u001b[49m\u001b[43musers_data\u001b[49m\u001b[43m)\u001b[49m\n",
      "\u001b[36mFile \u001b[39m\u001b[32mc:\\Users\\NatalkaNerealka\\AppData\\Local\\pypoetry\\Cache\\virtualenvs\\practice-oROHw4NI-py3.13\\Lib\\site-packages\\pydantic\\main.py:703\u001b[39m, in \u001b[36mBaseModel.model_validate\u001b[39m\u001b[34m(cls, obj, strict, from_attributes, context, by_alias, by_name)\u001b[39m\n\u001b[32m    697\u001b[39m \u001b[38;5;28;01mif\u001b[39;00m by_alias \u001b[38;5;129;01mis\u001b[39;00m \u001b[38;5;28;01mFalse\u001b[39;00m \u001b[38;5;129;01mand\u001b[39;00m by_name \u001b[38;5;129;01mis\u001b[39;00m \u001b[38;5;129;01mnot\u001b[39;00m \u001b[38;5;28;01mTrue\u001b[39;00m:\n\u001b[32m    698\u001b[39m     \u001b[38;5;28;01mraise\u001b[39;00m PydanticUserError(\n\u001b[32m    699\u001b[39m         \u001b[33m'\u001b[39m\u001b[33mAt least one of `by_alias` or `by_name` must be set to True.\u001b[39m\u001b[33m'\u001b[39m,\n\u001b[32m    700\u001b[39m         code=\u001b[33m'\u001b[39m\u001b[33mvalidate-by-alias-and-name-false\u001b[39m\u001b[33m'\u001b[39m,\n\u001b[32m    701\u001b[39m     )\n\u001b[32m--> \u001b[39m\u001b[32m703\u001b[39m \u001b[38;5;28;01mreturn\u001b[39;00m \u001b[38;5;28;43mcls\u001b[39;49m\u001b[43m.\u001b[49m\u001b[43m__pydantic_validator__\u001b[49m\u001b[43m.\u001b[49m\u001b[43mvalidate_python\u001b[49m\u001b[43m(\u001b[49m\n\u001b[32m    704\u001b[39m \u001b[43m    \u001b[49m\u001b[43mobj\u001b[49m\u001b[43m,\u001b[49m\u001b[43m \u001b[49m\u001b[43mstrict\u001b[49m\u001b[43m=\u001b[49m\u001b[43mstrict\u001b[49m\u001b[43m,\u001b[49m\u001b[43m \u001b[49m\u001b[43mfrom_attributes\u001b[49m\u001b[43m=\u001b[49m\u001b[43mfrom_attributes\u001b[49m\u001b[43m,\u001b[49m\u001b[43m \u001b[49m\u001b[43mcontext\u001b[49m\u001b[43m=\u001b[49m\u001b[43mcontext\u001b[49m\u001b[43m,\u001b[49m\u001b[43m \u001b[49m\u001b[43mby_alias\u001b[49m\u001b[43m=\u001b[49m\u001b[43mby_alias\u001b[49m\u001b[43m,\u001b[49m\u001b[43m \u001b[49m\u001b[43mby_name\u001b[49m\u001b[43m=\u001b[49m\u001b[43mby_name\u001b[49m\n\u001b[32m    705\u001b[39m \u001b[43m\u001b[49m\u001b[43m)\u001b[49m\n",
      "\u001b[31mValidationError\u001b[39m: 1 validation error for UserPD\n  Input should be a valid dictionary or object to extract fields from [type=model_attributes_type, input_value=[{'username': 'lorrainera...я подписка'>}], input_type=list]\n    For further information visit https://errors.pydantic.dev/2.11/v/model_attributes_type"
     ]
    }
   ],
   "source": [
    "from schemas.user import UserPD\n",
    "\n",
    "UserPD(users_data)"
   ]
  },
  {
   "cell_type": "code",
   "execution_count": null,
   "metadata": {},
   "outputs": [],
   "source": []
  }
 ],
 "metadata": {
  "kernelspec": {
   "display_name": "practice-oROHw4NI-py3.13",
   "language": "python",
   "name": "python3"
  },
  "language_info": {
   "codemirror_mode": {
    "name": "ipython",
    "version": 3
   },
   "file_extension": ".py",
   "mimetype": "text/x-python",
   "name": "python",
   "nbconvert_exporter": "python",
   "pygments_lexer": "ipython3",
   "version": "3.13.2"
  }
 },
 "nbformat": 4,
 "nbformat_minor": 2
}
